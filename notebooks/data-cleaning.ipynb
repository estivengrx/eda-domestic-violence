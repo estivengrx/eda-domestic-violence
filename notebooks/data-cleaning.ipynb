{
 "cells": [
  {
   "attachments": {},
   "cell_type": "markdown",
   "metadata": {},
   "source": [
    "# Importing the data and saving it to .json"
   ]
  },
  {
   "attachments": {},
   "cell_type": "markdown",
   "metadata": {},
   "source": [
    "It's exported to json format because I wanted to mantain the real data, but it's better to use pickle format or parquet."
   ]
  },
  {
   "cell_type": "code",
   "execution_count": 19,
   "metadata": {},
   "outputs": [],
   "source": [
    "import pandas as pd\n",
    "import numpy as np"
   ]
  },
  {
   "cell_type": "code",
   "execution_count": 20,
   "metadata": {},
   "outputs": [],
   "source": [
    "source = \"https://www.datos.gov.co/resource/vuyt-mqpw.json\"\n",
    "df = pd.read_json(source + \"?$limit=600000\")\n",
    "df.to_json('../data/raw_data/raw_data.json')"
   ]
  },
  {
   "attachments": {},
   "cell_type": "markdown",
   "metadata": {
    "id": "hfvbdtK3wmqQ"
   },
   "source": [
    "# Adjustments for columns, nulls and duplicates, (cleaning process)."
   ]
  },
  {
   "attachments": {},
   "cell_type": "markdown",
   "metadata": {},
   "source": [
    "## Null data treatment"
   ]
  },
  {
   "attachments": {},
   "cell_type": "markdown",
   "metadata": {},
   "source": [
    "Renaming columns to English language and dropping codigo_dane column"
   ]
  },
  {
   "cell_type": "code",
   "execution_count": 21,
   "metadata": {},
   "outputs": [],
   "source": [
    "df = df.rename({'departamento':'department', \n",
    "           'municipio':'municipality', \n",
    "           'armas_medios':'gun_type', \n",
    "           'fecha_hecho':'date', \n",
    "           'genero':'sex', \n",
    "           'grupo_etario':'age_group', \n",
    "           'cantidad':'cases'}, axis = 1\n",
    ").copy()\n",
    "\n",
    "df = df.drop('codigo_dane', axis = 1).copy()"
   ]
  },
  {
   "cell_type": "code",
   "execution_count": 22,
   "metadata": {},
   "outputs": [
    {
     "name": "stdout",
     "output_type": "stream",
     "text": [
      "<class 'pandas.core.frame.DataFrame'>\n",
      "RangeIndex: 564113 entries, 0 to 564112\n",
      "Data columns (total 7 columns):\n",
      " #   Column        Non-Null Count   Dtype \n",
      "---  ------        --------------   ----- \n",
      " 0   department    564113 non-null  object\n",
      " 1   municipality  564113 non-null  object\n",
      " 2   gun_type      564113 non-null  object\n",
      " 3   date          564113 non-null  object\n",
      " 4   sex           564113 non-null  object\n",
      " 5   age_group     562502 non-null  object\n",
      " 6   cases         564113 non-null  int64 \n",
      "dtypes: int64(1), object(6)\n",
      "memory usage: 30.1+ MB\n"
     ]
    },
    {
     "data": {
      "text/plain": [
       "(None,\n",
       " department      object\n",
       " municipality    object\n",
       " gun_type        object\n",
       " date            object\n",
       " sex             object\n",
       " age_group       object\n",
       " cases            int64\n",
       " dtype: object)"
      ]
     },
     "execution_count": 22,
     "metadata": {},
     "output_type": "execute_result"
    }
   ],
   "source": [
    "df.info(), df.dtypes"
   ]
  },
  {
   "cell_type": "code",
   "execution_count": 23,
   "metadata": {},
   "outputs": [
    {
     "name": "stdout",
     "output_type": "stream",
     "text": [
      "department      0.000000\n",
      "municipality    0.000000\n",
      "gun_type        0.000000\n",
      "date            0.000000\n",
      "sex             0.000000\n",
      "age_group       0.285581\n",
      "cases           0.000000\n",
      "dtype: float64\n",
      "\n",
      "department         0\n",
      "municipality       0\n",
      "gun_type           0\n",
      "date               0\n",
      "sex                0\n",
      "age_group       1611\n",
      "cases              0\n",
      "dtype: int64\n"
     ]
    }
   ],
   "source": [
    "empty_info = df.isnull().sum()*100/df.shape[0]\n",
    "print(f'{empty_info}\\n\\n{df.isnull().sum()}')"
   ]
  },
  {
   "attachments": {},
   "cell_type": "markdown",
   "metadata": {},
   "source": [
    "Eliminating null values from 'age_group' column"
   ]
  },
  {
   "cell_type": "code",
   "execution_count": 24,
   "metadata": {},
   "outputs": [],
   "source": [
    "df = df[~df['age_group'].isnull()]"
   ]
  },
  {
   "attachments": {},
   "cell_type": "markdown",
   "metadata": {},
   "source": [
    "Erasing duplicates"
   ]
  },
  {
   "cell_type": "code",
   "execution_count": 25,
   "metadata": {},
   "outputs": [],
   "source": [
    "df = df.loc[:, ~df.columns.duplicated()].copy()"
   ]
  },
  {
   "attachments": {},
   "cell_type": "markdown",
   "metadata": {},
   "source": [
    "## Data dtype changes"
   ]
  },
  {
   "cell_type": "code",
   "execution_count": 26,
   "metadata": {},
   "outputs": [],
   "source": [
    "df['sex'] = df['sex'].astype('category')\n",
    "df['age_group'] = df['age_group'].astype('category')\n",
    "df['gun_type'] = df['gun_type'].astype('category')\n",
    "df['date'] = pd.to_datetime(df['date'], format = '%d/%m/%Y')"
   ]
  },
  {
   "cell_type": "code",
   "execution_count": 27,
   "metadata": {},
   "outputs": [
    {
     "data": {
      "text/plain": [
       "department              object\n",
       "municipality            object\n",
       "gun_type              category\n",
       "date            datetime64[ns]\n",
       "sex                   category\n",
       "age_group             category\n",
       "cases                    int64\n",
       "dtype: object"
      ]
     },
     "execution_count": 27,
     "metadata": {},
     "output_type": "execute_result"
    }
   ],
   "source": [
    "df.dtypes"
   ]
  },
  {
   "attachments": {},
   "cell_type": "markdown",
   "metadata": {},
   "source": [
    "## Department column changes for future graphs"
   ]
  },
  {
   "attachments": {},
   "cell_type": "markdown",
   "metadata": {},
   "source": [
    "Changing codification of the column department to don't have errors"
   ]
  },
  {
   "cell_type": "code",
   "execution_count": 28,
   "metadata": {},
   "outputs": [],
   "source": [
    "df.loc[:, 'department'] = df['department'].str.normalize('NFKD').str.encode('ascii', errors = 'ignore').str.decode('utf-8')"
   ]
  },
  {
   "cell_type": "code",
   "execution_count": 29,
   "metadata": {},
   "outputs": [
    {
     "data": {
      "text/plain": [
       "array(['ATLANTICO', 'BOYACA', 'CAQUETA', 'CASANARE', 'CUNDINAMARCA',\n",
       "       'SUCRE', 'VALLE DEL CAUCA', 'HUILA', 'ANTIOQUIA', 'ARAUCA',\n",
       "       'BOLIVAR', 'CALDAS', 'CAUCA', 'CESAR', 'CHOCO', 'CORDOBA',\n",
       "       'MAGDALENA', 'META', 'NARIÑO', 'NORTE DE SANTANDER', 'PUTUMAYO',\n",
       "       'RISARALDA', 'SANTANDER', 'TOLIMA', 'VAUPES', 'GUAVIARE',\n",
       "       'LA GUAJIRA', 'QUINDIO', 'AMAZONAS', 'VICHADA', 'GUAINIA',\n",
       "       'ARCHIPIELAGO DE SAN ANDRES PROVIDENCIA Y SANTA CATALINA',\n",
       "       'NO REPORTA'], dtype=object)"
      ]
     },
     "execution_count": 29,
     "metadata": {},
     "output_type": "execute_result"
    }
   ],
   "source": [
    "df['department'].replace({'SAN ANDRES':'ARCHIPIELAGO DE SAN ANDRES PROVIDENCIA Y SANTA CATALINA',\n",
    "                             'VALLE':'VALLE DEL CAUCA',\n",
    "                             'NARINO':'NARIÑO',\n",
    "                             'GUAJIRA':'LA GUAJIRA'}, inplace = True)\n",
    "df.department.unique()"
   ]
  },
  {
   "attachments": {},
   "cell_type": "markdown",
   "metadata": {},
   "source": [
    "Dropping data without department report"
   ]
  },
  {
   "cell_type": "code",
   "execution_count": 30,
   "metadata": {},
   "outputs": [],
   "source": [
    "df['department'].replace('NO REPORTA', np.nan, inplace = True)\n",
    "df = df[~df['department'].isnull()]"
   ]
  },
  {
   "attachments": {},
   "cell_type": "markdown",
   "metadata": {},
   "source": [
    "Changing the name of Bogotá municipality to plot maps later"
   ]
  },
  {
   "cell_type": "code",
   "execution_count": 31,
   "metadata": {},
   "outputs": [],
   "source": [
    "df = df.replace('BOGOTÁ D.C. (CT)', 'SANTAFE DE BOGOTA D.C').copy()"
   ]
  },
  {
   "cell_type": "code",
   "execution_count": 32,
   "metadata": {},
   "outputs": [
    {
     "data": {
      "text/html": [
       "<div>\n",
       "<style scoped>\n",
       "    .dataframe tbody tr th:only-of-type {\n",
       "        vertical-align: middle;\n",
       "    }\n",
       "\n",
       "    .dataframe tbody tr th {\n",
       "        vertical-align: top;\n",
       "    }\n",
       "\n",
       "    .dataframe thead th {\n",
       "        text-align: right;\n",
       "    }\n",
       "</style>\n",
       "<table border=\"1\" class=\"dataframe\">\n",
       "  <thead>\n",
       "    <tr style=\"text-align: right;\">\n",
       "      <th></th>\n",
       "      <th>department</th>\n",
       "      <th>municipality</th>\n",
       "      <th>gun_type</th>\n",
       "      <th>date</th>\n",
       "      <th>sex</th>\n",
       "      <th>age_group</th>\n",
       "      <th>cases</th>\n",
       "    </tr>\n",
       "  </thead>\n",
       "  <tbody>\n",
       "    <tr>\n",
       "      <th>0</th>\n",
       "      <td>ATLANTICO</td>\n",
       "      <td>BARRANQUILLA (CT)</td>\n",
       "      <td>ARMA BLANCA / CORTOPUNZANTE</td>\n",
       "      <td>2010-01-01</td>\n",
       "      <td>MASCULINO</td>\n",
       "      <td>ADULTOS</td>\n",
       "      <td>1</td>\n",
       "    </tr>\n",
       "    <tr>\n",
       "      <th>1</th>\n",
       "      <td>BOYACA</td>\n",
       "      <td>DUITAMA</td>\n",
       "      <td>ARMA BLANCA / CORTOPUNZANTE</td>\n",
       "      <td>2010-01-01</td>\n",
       "      <td>FEMENINO</td>\n",
       "      <td>ADULTOS</td>\n",
       "      <td>1</td>\n",
       "    </tr>\n",
       "    <tr>\n",
       "      <th>2</th>\n",
       "      <td>CAQUETA</td>\n",
       "      <td>PUERTO RICO</td>\n",
       "      <td>ARMA BLANCA / CORTOPUNZANTE</td>\n",
       "      <td>2010-01-01</td>\n",
       "      <td>MASCULINO</td>\n",
       "      <td>ADULTOS</td>\n",
       "      <td>1</td>\n",
       "    </tr>\n",
       "    <tr>\n",
       "      <th>3</th>\n",
       "      <td>CASANARE</td>\n",
       "      <td>MANÍ</td>\n",
       "      <td>ARMA BLANCA / CORTOPUNZANTE</td>\n",
       "      <td>2010-01-01</td>\n",
       "      <td>FEMENINO</td>\n",
       "      <td>ADULTOS</td>\n",
       "      <td>1</td>\n",
       "    </tr>\n",
       "    <tr>\n",
       "      <th>4</th>\n",
       "      <td>CUNDINAMARCA</td>\n",
       "      <td>SANTAFE DE BOGOTA D.C</td>\n",
       "      <td>ARMA BLANCA / CORTOPUNZANTE</td>\n",
       "      <td>2010-01-01</td>\n",
       "      <td>FEMENINO</td>\n",
       "      <td>ADULTOS</td>\n",
       "      <td>1</td>\n",
       "    </tr>\n",
       "    <tr>\n",
       "      <th>...</th>\n",
       "      <td>...</td>\n",
       "      <td>...</td>\n",
       "      <td>...</td>\n",
       "      <td>...</td>\n",
       "      <td>...</td>\n",
       "      <td>...</td>\n",
       "      <td>...</td>\n",
       "    </tr>\n",
       "    <tr>\n",
       "      <th>564108</th>\n",
       "      <td>VICHADA</td>\n",
       "      <td>SANTA ROSALÍA</td>\n",
       "      <td>SIN EMPLEO DE ARMAS</td>\n",
       "      <td>2022-08-29</td>\n",
       "      <td>MASCULINO</td>\n",
       "      <td>ADULTOS</td>\n",
       "      <td>1</td>\n",
       "    </tr>\n",
       "    <tr>\n",
       "      <th>564109</th>\n",
       "      <td>VICHADA</td>\n",
       "      <td>SANTA ROSALÍA</td>\n",
       "      <td>SIN EMPLEO DE ARMAS</td>\n",
       "      <td>2022-09-26</td>\n",
       "      <td>FEMENINO</td>\n",
       "      <td>ADULTOS</td>\n",
       "      <td>1</td>\n",
       "    </tr>\n",
       "    <tr>\n",
       "      <th>564110</th>\n",
       "      <td>CUNDINAMARCA</td>\n",
       "      <td>FUSAGASUGÁ</td>\n",
       "      <td>NO REPORTADO</td>\n",
       "      <td>2022-07-07</td>\n",
       "      <td>FEMENINO</td>\n",
       "      <td>ADULTOS</td>\n",
       "      <td>1</td>\n",
       "    </tr>\n",
       "    <tr>\n",
       "      <th>564111</th>\n",
       "      <td>CUNDINAMARCA</td>\n",
       "      <td>GUADUAS</td>\n",
       "      <td>NO REPORTADO</td>\n",
       "      <td>2022-07-02</td>\n",
       "      <td>FEMENINO</td>\n",
       "      <td>ADULTOS</td>\n",
       "      <td>1</td>\n",
       "    </tr>\n",
       "    <tr>\n",
       "      <th>564112</th>\n",
       "      <td>CUNDINAMARCA</td>\n",
       "      <td>SILVANIA</td>\n",
       "      <td>NO REPORTADO</td>\n",
       "      <td>2022-07-06</td>\n",
       "      <td>FEMENINO</td>\n",
       "      <td>ADULTOS</td>\n",
       "      <td>1</td>\n",
       "    </tr>\n",
       "  </tbody>\n",
       "</table>\n",
       "<p>562496 rows × 7 columns</p>\n",
       "</div>"
      ],
      "text/plain": [
       "          department           municipality                     gun_type  \\\n",
       "0          ATLANTICO      BARRANQUILLA (CT)  ARMA BLANCA / CORTOPUNZANTE   \n",
       "1             BOYACA                DUITAMA  ARMA BLANCA / CORTOPUNZANTE   \n",
       "2            CAQUETA            PUERTO RICO  ARMA BLANCA / CORTOPUNZANTE   \n",
       "3           CASANARE                   MANÍ  ARMA BLANCA / CORTOPUNZANTE   \n",
       "4       CUNDINAMARCA  SANTAFE DE BOGOTA D.C  ARMA BLANCA / CORTOPUNZANTE   \n",
       "...              ...                    ...                          ...   \n",
       "564108       VICHADA          SANTA ROSALÍA          SIN EMPLEO DE ARMAS   \n",
       "564109       VICHADA          SANTA ROSALÍA          SIN EMPLEO DE ARMAS   \n",
       "564110  CUNDINAMARCA             FUSAGASUGÁ                 NO REPORTADO   \n",
       "564111  CUNDINAMARCA                GUADUAS                 NO REPORTADO   \n",
       "564112  CUNDINAMARCA               SILVANIA                 NO REPORTADO   \n",
       "\n",
       "             date        sex age_group  cases  \n",
       "0      2010-01-01  MASCULINO   ADULTOS      1  \n",
       "1      2010-01-01   FEMENINO   ADULTOS      1  \n",
       "2      2010-01-01  MASCULINO   ADULTOS      1  \n",
       "3      2010-01-01   FEMENINO   ADULTOS      1  \n",
       "4      2010-01-01   FEMENINO   ADULTOS      1  \n",
       "...           ...        ...       ...    ...  \n",
       "564108 2022-08-29  MASCULINO   ADULTOS      1  \n",
       "564109 2022-09-26   FEMENINO   ADULTOS      1  \n",
       "564110 2022-07-07   FEMENINO   ADULTOS      1  \n",
       "564111 2022-07-02   FEMENINO   ADULTOS      1  \n",
       "564112 2022-07-06   FEMENINO   ADULTOS      1  \n",
       "\n",
       "[562496 rows x 7 columns]"
      ]
     },
     "execution_count": 32,
     "metadata": {},
     "output_type": "execute_result"
    }
   ],
   "source": [
    "df"
   ]
  },
  {
   "attachments": {},
   "cell_type": "markdown",
   "metadata": {},
   "source": [
    "## Little columns changes"
   ]
  },
  {
   "attachments": {},
   "cell_type": "markdown",
   "metadata": {},
   "source": [
    "Artículo 365A del código penal colombiano\n",
    "\n",
    "Parágrafo 1°. Para los efectos de esta ley, entiéndanse como arma blanca el objeto punzante, cortante, cortocontundente o cortopunzante apto para herir cortar, matar o dañar; que posea bordes filosos o punzantes, tales como navajas, puñales, puñaletas, punzones o cualquier objeto de similares características.\n",
    "\n",
    "---\n",
    "\n",
    "Article 365A of the Colombian Penal Code\n",
    "\n",
    "Paragraph 1. For the purposes of this law, a white weapon is understood to be any sharp, cutting, blunt or sharp object suitable to wound, cut, kill or damage; that has sharp or pointed edges, such as knives, daggers, daggers, stabs, awls or any object of similar characteristics."
   ]
  },
  {
   "cell_type": "code",
   "execution_count": 33,
   "metadata": {},
   "outputs": [],
   "source": [
    "#change on genre no reports\n",
    "df['sex'] = df['sex'].replace('NO REPORTADO', 'NO REPORTA')\n",
    "\n",
    "#change on age_group no reports\n",
    "df['age_group'] = df['age_group'].replace('NO REPORTADO', 'NO REPORTA')\n",
    "\n",
    "#change on gun_type based on Penal Code\n",
    "df['gun_type'] = df['gun_type'].replace({'ARMA BLANCA / CORTOPUNZANTE':'ARMA BLANCA',\n",
    "                            '-':'NO REPORTA',\n",
    "                            'NO REPORTADO':'NO REPORTA',\n",
    "                            'CORTOPUNZANTES':'ARMA BLANCA',\n",
    "                            'CORTANTES':'ARMA BLANCA',\n",
    "                            'CONTUNDENTES':'ARMA BLANCA',\n",
    "                            'PUNZANTES':'ARMA BLANCA'})"
   ]
  },
  {
   "cell_type": "code",
   "execution_count": 34,
   "metadata": {},
   "outputs": [
    {
     "name": "stdout",
     "output_type": "stream",
     "text": [
      "['ARMA BLANCA', 'ARMA DE FUEGO', 'NO REPORTA', 'SIN EMPLEO DE ARMAS', 'ESCOPOLAMINA']\n",
      "Categories (5, object): ['ARMA BLANCA', 'ARMA DE FUEGO', 'ESCOPOLAMINA', 'NO REPORTA', 'SIN EMPLEO DE ARMAS'] ['MASCULINO', 'FEMENINO', 'NO REPORTA']\n",
      "Categories (3, object): ['FEMENINO', 'MASCULINO', 'NO REPORTA'] ['ADULTOS', 'ADOLESCENTES', 'MENORES', 'NO REPORTA']\n",
      "Categories (4, object): ['ADOLESCENTES', 'ADULTOS', 'MENORES', 'NO REPORTA']\n"
     ]
    }
   ],
   "source": [
    "print(df['gun_type'].unique(), \n",
    "      df['sex'].unique(), \n",
    "      df['age_group'].unique())"
   ]
  },
  {
   "attachments": {},
   "cell_type": "markdown",
   "metadata": {},
   "source": [
    "# Exporting data as .parquet"
   ]
  },
  {
   "cell_type": "code",
   "execution_count": 35,
   "metadata": {},
   "outputs": [],
   "source": [
    "df = df.reset_index(drop=True).copy()"
   ]
  },
  {
   "cell_type": "code",
   "execution_count": 36,
   "metadata": {},
   "outputs": [],
   "source": [
    "df.to_parquet('../data/processed/data_cleaned.parquet', index = False)"
   ]
  }
 ],
 "metadata": {
  "kernelspec": {
   "display_name": "Python 3",
   "language": "python",
   "name": "python3"
  },
  "language_info": {
   "codemirror_mode": {
    "name": "ipython",
    "version": 3
   },
   "file_extension": ".py",
   "mimetype": "text/x-python",
   "name": "python",
   "nbconvert_exporter": "python",
   "pygments_lexer": "ipython3",
   "version": "3.9.5 (tags/v3.9.5:0a7dcbd, May  3 2021, 17:27:52) [MSC v.1928 64 bit (AMD64)]"
  },
  "orig_nbformat": 4,
  "vscode": {
   "interpreter": {
    "hash": "cf92aa13fedf815d5c8dd192b8d835913fde3e8bc926b2a0ad6cc74ef2ba3ca2"
   }
  }
 },
 "nbformat": 4,
 "nbformat_minor": 2
}
