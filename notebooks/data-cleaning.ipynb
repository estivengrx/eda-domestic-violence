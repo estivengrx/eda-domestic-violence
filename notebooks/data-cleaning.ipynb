{
 "cells": [
  {
   "cell_type": "code",
   "execution_count": 32,
   "metadata": {},
   "outputs": [],
   "source": [
    "import pandas as pd\n",
    "import numpy as np"
   ]
  },
  {
   "cell_type": "code",
   "execution_count": 33,
   "metadata": {},
   "outputs": [],
   "source": [
    "source = \"https://www.datos.gov.co/resource/vuyt-mqpw.json\"\n",
    "df = pd.read_json(source + \"?$limit=600000\")\n",
    "df.to_json('../data/raw_data/raw_data.json')"
   ]
  },
  {
   "cell_type": "code",
   "execution_count": 34,
   "metadata": {},
   "outputs": [],
   "source": [
    "df['fecha_hecho'] = pd.to_datetime(df['fecha_hecho'], format = '%d/%m/%Y')"
   ]
  },
  {
   "attachments": {},
   "cell_type": "markdown",
   "metadata": {
    "id": "hfvbdtK3wmqQ"
   },
   "source": [
    "#Adjustments for columns, nulls and duplicates, (cleaning process)."
   ]
  },
  {
   "attachments": {},
   "cell_type": "markdown",
   "metadata": {},
   "source": [
    "##Null data treatment"
   ]
  },
  {
   "attachments": {},
   "cell_type": "markdown",
   "metadata": {},
   "source": [
    "Renaming columns to English language"
   ]
  },
  {
   "cell_type": "code",
   "execution_count": 35,
   "metadata": {},
   "outputs": [],
   "source": [
    "df.rename({'departamento':'department', \n",
    "           'municipio':'municipality', \n",
    "           'armas_medios':'gun_type', \n",
    "           'fecha_hecho':'date', \n",
    "           'genero':'gender', \n",
    "           'grupo_etario':'age_group', \n",
    "           'cantidad':'cases'}, axis = 1 ,inplace = True\n",
    ")\n",
    "df.drop('codigo_dane', axis = 1, inplace = True)\n"
   ]
  },
  {
   "cell_type": "code",
   "execution_count": 36,
   "metadata": {},
   "outputs": [
    {
     "name": "stdout",
     "output_type": "stream",
     "text": [
      "<class 'pandas.core.frame.DataFrame'>\n",
      "RangeIndex: 564113 entries, 0 to 564112\n",
      "Data columns (total 7 columns):\n",
      " #   Column        Non-Null Count   Dtype         \n",
      "---  ------        --------------   -----         \n",
      " 0   department    564113 non-null  object        \n",
      " 1   municipality  564113 non-null  object        \n",
      " 2   gun_type      564113 non-null  object        \n",
      " 3   date          564113 non-null  datetime64[ns]\n",
      " 4   gender        564113 non-null  object        \n",
      " 5   age_group     562502 non-null  object        \n",
      " 6   cases         564113 non-null  int64         \n",
      "dtypes: datetime64[ns](1), int64(1), object(5)\n",
      "memory usage: 30.1+ MB\n"
     ]
    },
    {
     "data": {
      "text/plain": [
       "(None,\n",
       " department              object\n",
       " municipality            object\n",
       " gun_type                object\n",
       " date            datetime64[ns]\n",
       " gender                  object\n",
       " age_group               object\n",
       " cases                    int64\n",
       " dtype: object)"
      ]
     },
     "execution_count": 36,
     "metadata": {},
     "output_type": "execute_result"
    }
   ],
   "source": [
    "df.info(), df.dtypes"
   ]
  },
  {
   "cell_type": "code",
   "execution_count": 37,
   "metadata": {},
   "outputs": [
    {
     "name": "stdout",
     "output_type": "stream",
     "text": [
      "department      0.000000\n",
      "municipality    0.000000\n",
      "gun_type        0.000000\n",
      "date            0.000000\n",
      "gender          0.000000\n",
      "age_group       0.285581\n",
      "cases           0.000000\n",
      "dtype: float64\n",
      "\n",
      "department         0\n",
      "municipality       0\n",
      "gun_type           0\n",
      "date               0\n",
      "gender             0\n",
      "age_group       1611\n",
      "cases              0\n",
      "dtype: int64\n"
     ]
    }
   ],
   "source": [
    "empty_info = df.isnull().sum()*100/df.shape[0]\n",
    "print(f'{empty_info}\\n\\n{df.isnull().sum()}')"
   ]
  },
  {
   "cell_type": "code",
   "execution_count": 38,
   "metadata": {},
   "outputs": [],
   "source": [
    "df = df[~df['age_group'].isnull()]   #Eliminates null values from 'age_group' column"
   ]
  },
  {
   "attachments": {},
   "cell_type": "markdown",
   "metadata": {},
   "source": [
    "Erasing duplicates"
   ]
  },
  {
   "cell_type": "code",
   "execution_count": 47,
   "metadata": {},
   "outputs": [],
   "source": [
    "df = df.loc[:, ~df.columns.duplicated()].copy()"
   ]
  },
  {
   "attachments": {},
   "cell_type": "markdown",
   "metadata": {},
   "source": [
    "##Date dtype change"
   ]
  },
  {
   "attachments": {},
   "cell_type": "markdown",
   "metadata": {},
   "source": [
    "##Department column changes for feature graphs"
   ]
  },
  {
   "cell_type": "code",
   "execution_count": 39,
   "metadata": {},
   "outputs": [],
   "source": [
    "df.loc[:, 'department'] = df['department'].str.normalize('NFKD').str.encode('ascii', errors = 'ignore').str.decode('utf-8')"
   ]
  },
  {
   "cell_type": "code",
   "execution_count": 40,
   "metadata": {},
   "outputs": [
    {
     "data": {
      "text/plain": [
       "array(['ATLANTICO', 'BOYACA', 'CAQUETA', 'CASANARE', 'CUNDINAMARCA',\n",
       "       'SUCRE', 'VALLE DEL CAUCA', 'HUILA', 'ANTIOQUIA', 'ARAUCA',\n",
       "       'BOLIVAR', 'CALDAS', 'CAUCA', 'CESAR', 'CHOCO', 'CORDOBA',\n",
       "       'MAGDALENA', 'META', 'NARIÑO', 'NORTE DE SANTANDER', 'PUTUMAYO',\n",
       "       'RISARALDA', 'SANTANDER', 'TOLIMA', 'VAUPES', 'GUAVIARE',\n",
       "       'LA GUAJIRA', 'QUINDIO', 'AMAZONAS', 'VICHADA', 'GUAINIA',\n",
       "       'ARCHIPIELAGO DE SAN ANDRES PROVIDENCIA Y SANTA CATALINA',\n",
       "       'NO REPORTA'], dtype=object)"
      ]
     },
     "execution_count": 40,
     "metadata": {},
     "output_type": "execute_result"
    }
   ],
   "source": [
    "df['department'].replace({'SAN ANDRES':'ARCHIPIELAGO DE SAN ANDRES PROVIDENCIA Y SANTA CATALINA',\n",
    "                             'VALLE':'VALLE DEL CAUCA',\n",
    "                             'NARINO':'NARIÑO',\n",
    "                             'GUAJIRA':'LA GUAJIRA'}, inplace = True)\n",
    "df.department.unique()"
   ]
  },
  {
   "cell_type": "code",
   "execution_count": 42,
   "metadata": {},
   "outputs": [],
   "source": [
    "df['department'].replace('NO REPORTA', np.nan, inplace = True)       #dropping data without department report\n",
    "df = df[~df['department'].isnull()]"
   ]
  },
  {
   "attachments": {},
   "cell_type": "markdown",
   "metadata": {},
   "source": [
    "Changing the name of Bogotá municipality to plot maps later"
   ]
  },
  {
   "cell_type": "code",
   "execution_count": 43,
   "metadata": {},
   "outputs": [
    {
     "data": {
      "text/plain": [
       "array(['ATLANTICO', 'BOYACA', 'CAQUETA', 'CASANARE',\n",
       "       'SANTAFE DE BOGOTA D.C', 'SUCRE', 'VALLE DEL CAUCA', 'HUILA',\n",
       "       'ANTIOQUIA', 'ARAUCA', 'BOLIVAR', 'CALDAS', 'CAUCA', 'CESAR',\n",
       "       'CHOCO', 'CORDOBA', 'CUNDINAMARCA', 'MAGDALENA', 'META', 'NARIÑO',\n",
       "       'NORTE DE SANTANDER', 'PUTUMAYO', 'RISARALDA', 'SANTANDER',\n",
       "       'TOLIMA', 'VAUPES', 'GUAVIARE', 'LA GUAJIRA', 'QUINDIO',\n",
       "       'AMAZONAS', 'VICHADA', 'GUAINIA',\n",
       "       'ARCHIPIELAGO DE SAN ANDRES PROVIDENCIA Y SANTA CATALINA'],\n",
       "      dtype=object)"
      ]
     },
     "execution_count": 43,
     "metadata": {},
     "output_type": "execute_result"
    }
   ],
   "source": [
    "bog_index = df.index[(df['municipality'] == 'BOGOTÁ D.C. (CT)')]\n",
    "bog_index = list(bog_index)\n",
    "df.loc[bog_index, 'department'] = 'SANTAFE DE BOGOTA D.C'\n",
    "df['department'].unique()"
   ]
  },
  {
   "attachments": {},
   "cell_type": "markdown",
   "metadata": {},
   "source": [
    "##Little columns changes"
   ]
  },
  {
   "cell_type": "code",
   "execution_count": 44,
   "metadata": {},
   "outputs": [
    {
     "name": "stdout",
     "output_type": "stream",
     "text": [
      "['ARMA BLANCA / CORTOPUNZANTE' 'ARMA DE FUEGO' 'CONTUNDENTES' 'CORTANTES'\n",
      " 'CORTOPUNZANTES' 'NO REPORTADO' 'PUNZANTES' 'SIN EMPLEO DE ARMAS'\n",
      " 'NO REPORTA' 'ESCOPOLAMINA' '-']\n",
      "['MASCULINO' 'FEMENINO' 'NO REPORTA' 'NO REPORTADO']\n",
      "['ADULTOS' 'ADOLESCENTES' 'MENORES' 'NO REPORTA' 'NO REPORTADO']\n"
     ]
    }
   ],
   "source": [
    "print(df['gun_type'].unique())\n",
    "print(df['gender'].unique())\n",
    "print(df['age_group'].unique())"
   ]
  },
  {
   "attachments": {},
   "cell_type": "markdown",
   "metadata": {},
   "source": [
    "Artículo 365A del código penal colombiano\n",
    "\n",
    "Parágrafo 1°. Para los efectos de esta ley, entiéndanse como arma blanca el objeto punzante, cortante, cortocontundente o cortopunzante apto para herir cortar, matar o dañar; que posea bordes filosos o punzantes, tales como navajas, puñales, puñaletas, punzones o cualquier objeto de similares características.\n",
    "\n",
    "---\n",
    "\n",
    "Article 365A of the Colombian Penal Code\n",
    "\n",
    "Paragraph 1. For the purposes of this law, a white weapon is understood to be any sharp, cutting, blunt or sharp object suitable to wound, cut, kill or damage; that has sharp or pointed edges, such as knives, daggers, daggers, stabs, awls or any object of similar characteristics."
   ]
  },
  {
   "cell_type": "code",
   "execution_count": 45,
   "metadata": {},
   "outputs": [],
   "source": [
    "#change on genre no reports\n",
    "df['gender'].replace('NO REPORTADO', 'NO REPORTA', inplace = True)\n",
    "\n",
    "#change on age_group no reports\n",
    "df['age_group'].replace('NO REPORTADO', 'NO REPORTA', inplace = True)\n",
    "\n",
    "#change on gun_type based on Penal Code\n",
    "df['gun_type'].replace({'ARMA BLANCA / CORTOPUNZANTE':'ARMA BLANCA',\n",
    "                            '-':'NO REPORTA',\n",
    "                            'NO REPORTADO':'NO REPORTA',\n",
    "                            'CORTOPUNZANTES':'ARMA BLANCA',\n",
    "                            'CORTANTES':'ARMA BLANCA',\n",
    "                            'CONTUNDENTES':'ARMA BLANCA',\n",
    "                            'PUNZANTES':'ARMA BLANCA'}, inplace = True)"
   ]
  },
  {
   "cell_type": "code",
   "execution_count": 46,
   "metadata": {},
   "outputs": [],
   "source": [
    "df.to_parquet('../data/processed/data_cleaned.parquet', index = False)"
   ]
  }
 ],
 "metadata": {
  "kernelspec": {
   "display_name": "Python 3",
   "language": "python",
   "name": "python3"
  },
  "language_info": {
   "codemirror_mode": {
    "name": "ipython",
    "version": 3
   },
   "file_extension": ".py",
   "mimetype": "text/x-python",
   "name": "python",
   "nbconvert_exporter": "python",
   "pygments_lexer": "ipython3",
   "version": "3.9.5"
  },
  "orig_nbformat": 4,
  "vscode": {
   "interpreter": {
    "hash": "cf92aa13fedf815d5c8dd192b8d835913fde3e8bc926b2a0ad6cc74ef2ba3ca2"
   }
  }
 },
 "nbformat": 4,
 "nbformat_minor": 2
}
